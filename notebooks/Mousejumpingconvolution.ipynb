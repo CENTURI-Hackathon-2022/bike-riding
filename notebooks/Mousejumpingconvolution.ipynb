{
 "cells": [
  {
   "cell_type": "markdown",
   "metadata": {},
   "source": [
    "# Classification des séries temporelles avec des filtres fonctionnelles"
   ]
  },
  {
   "cell_type": "markdown",
   "metadata": {},
   "source": [
    "### Modules importés"
   ]
  },
  {
   "cell_type": "code",
   "execution_count": 92,
   "metadata": {},
   "outputs": [],
   "source": [
    "from pathlib import Path\n",
    "import numpy as np\n",
    "import matplotlib.pyplot as plt\n",
    "import matplotlib as mpl\n",
    "import pandas as pd\n",
    "import imageio\n",
    "from os import listdir\n",
    "from os.path import isfile, join\n",
    "import math\n",
    "from scipy.interpolate import interp1d"
   ]
  },
  {
   "cell_type": "markdown",
   "metadata": {},
   "source": [
    "## 1. Data Set"
   ]
  },
  {
   "cell_type": "markdown",
   "metadata": {},
   "source": [
    "Le data set avec lequel on va travailler contient des enregistrements des positions des différentes parties de souris dans un rotator. Pour une souris, on a donc 8 parties (le nez, l'oreille gauche, droite, le centre du corps, les pattes arrière etc...)."
   ]
  },
  {
   "cell_type": "markdown",
   "metadata": {},
   "source": [
    "Le problème avec ces données, c'est qu'ils sont beaucoup bruitées. Une grande partie des données sont soit manquantes soit abérantes. On va donc devoir selectionner les données les plus interessantes pour faire cette tâche de classification. Nous avons choisis de travailler en premier temps avec une partie du corps qui est le centre du corps de la souris, car c'est la partie qui est la plus souvent existantes et elle est corréler aux autre partie du corps."
   ]
  },
  {
   "cell_type": "markdown",
   "metadata": {},
   "source": [
    "### 1.1 Importer les données"
   ]
  },
  {
   "cell_type": "markdown",
   "metadata": {},
   "source": [
    "Dans cette partie nous allons essayer d'extraire toute les données liées à la partie centrale de la souris. La méthode ci-dessous va créer deux dataframe un pour l'axe des x, puis un autre pour l'axe des y."
   ]
  },
  {
   "cell_type": "code",
   "execution_count": 3,
   "metadata": {},
   "outputs": [],
   "source": [
    "def build_DataFrame(path):\n",
    "    \n",
    "    with open(path) as f:\n",
    "        lines = f.readlines()\n",
    "    mice_dict = {}\n",
    "    table = []\n",
    "    times = []\n",
    "    for l in lines[3:]:\n",
    "        values = l.strip().split(',')\n",
    "        time = eval(values.pop(0))\n",
    "        times.append(time)\n",
    "        values = [eval(v) if v!='' else -1 for v in values]\n",
    "        table.append(values)\n",
    "    table = np.array(table)\n",
    "    for i, (mouse, body) in enumerate(zip(lines[0].strip().split(',')[1:], lines[1].strip().split(',')[1:])):\n",
    "        if i%3==0:\n",
    "            val = 'likelyhood'  \n",
    "        elif i%3==1:\n",
    "            val = 'x' \n",
    "        else:\n",
    "            \n",
    "            val = 'y'\n",
    "            \n",
    "        mice_dict[mouse, body, val] = table[:, i]\n",
    "        \n",
    "    return np.array(times), pd.DataFrame(mice_dict)"
   ]
  },
  {
   "cell_type": "markdown",
   "metadata": {},
   "source": [
    "#### Data body center extraction"
   ]
  },
  {
   "cell_type": "code",
   "execution_count": 67,
   "metadata": {},
   "outputs": [],
   "source": [
    "files = [f for f in listdir('../data')]\n",
    "\n",
    "body_center_x = []\n",
    "body_center_y = []\n",
    "body_center_liklyhood = []\n",
    "\n",
    "mouses = [\"mus1\", \"mus2\",\"mus3\",\"mus4\"]\n",
    "\n",
    "for file in files:\n",
    "    \n",
    "    df = build_DataFrame(\"../data/\"+file)[1]\n",
    "    \n",
    "    for mouse in mouses:\n",
    "        \n",
    "        body_center_x.append(np.array(df[mouse][\"bodycentre\"][\"x\"]))\n",
    "        body_center_y.append(np.array(df[mouse][\"bodycentre\"][\"y\"]))\n",
    "        body_center_liklyhood.append(np.array(df[mouse][\"bodycentre\"][\"likelyhood\"]))"
   ]
  },
  {
   "cell_type": "markdown",
   "metadata": {},
   "source": [
    "Certaines données obtenues peuvent être aberrantes, nous allons donc regarder la vraisemblance de ces valeurs pour remplacer les valeurs fausse par l'objet nul."
   ]
  },
  {
   "cell_type": "code",
   "execution_count": 76,
   "metadata": {},
   "outputs": [],
   "source": [
    "def keep_likely_data(data_index):\n",
    "    \n",
    "    for i in range(len(body_center_x[data_index])):\n",
    "        \n",
    "        if(body_center_liklyhood[data_index][i] < 0.5):\n",
    "            \n",
    "            body_center_x[data_index][i] = math.nan\n",
    "            body_center_y[data_index][i] = math.nan"
   ]
  },
  {
   "cell_type": "markdown",
   "metadata": {},
   "source": [
    "Voici un aperçu de ce qu'on pourait avoir comme résultat"
   ]
  },
  {
   "cell_type": "code",
   "execution_count": 78,
   "metadata": {},
   "outputs": [
    {
     "name": "stdout",
     "output_type": "stream",
     "text": [
      "likelyhood [ 1.  1.  1.  1.  1. -1. -1. -1.  1.  1.  1.  1.  1.  1.  1.  1.  1. -1.]\n",
      "x [55.528 52.897 52.897 53.367 53.367    nan    nan    nan 51.387 51.593\n",
      " 52.266 52.673 53.611 53.68  53.949 53.964 53.964    nan]\n",
      "y [ 94.13   95.032  95.293  95.412  96.323     nan     nan     nan 102.104\n",
      " 102.641 103.229 103.229 103.074 103.074 102.811 102.811 102.811     nan]\n",
      "x [55.528 52.897 52.897 53.367 53.367    nan    nan    nan 51.387 51.593\n",
      " 52.266 52.673 53.611 53.68  53.949 53.964 53.964    nan]\n",
      "y [ 94.13   95.032  95.293  95.412  96.323     nan     nan     nan 102.104\n",
      " 102.641 103.229 103.229 103.074 103.074 102.811 102.811 102.811     nan]\n"
     ]
    }
   ],
   "source": [
    "print(\"likelyhood\",body_center_liklyhood[0][700:725])\n",
    "print(\"x\",body_center_x[0][700:725])\n",
    "print(\"y\",body_center_y[0][700:725])\n",
    "keep_likely_data(0)\n",
    "print(\"x\",body_center_x[0][700:725])\n",
    "print(\"y\",body_center_y[0][700:725])"
   ]
  },
  {
   "cell_type": "markdown",
   "metadata": {},
   "source": [
    "On a besoin maintenant de faire cette manipulation sur toutes les séries dans le data set"
   ]
  },
  {
   "cell_type": "code",
   "execution_count": 80,
   "metadata": {},
   "outputs": [],
   "source": [
    "for i in range(len(body_center_x)):\n",
    "    \n",
    "    keep_likely_data(i)"
   ]
  },
  {
   "cell_type": "markdown",
   "metadata": {},
   "source": [
    "### Visualisation de quelques données"
   ]
  },
  {
   "cell_type": "code",
   "execution_count": 81,
   "metadata": {},
   "outputs": [
    {
     "data": {
      "text/plain": [
       "[<matplotlib.lines.Line2D at 0x7f08207e6a60>]"
      ]
     },
     "execution_count": 81,
     "metadata": {},
     "output_type": "execute_result"
    },
    {
     "data": {
      "image/png": "[encoded data removed]",
      "text/plain": [
       "<Figure size 432x288 with 1 Axes>"
      ]
     },
     "metadata": {
      "needs_background": "light"
     },
     "output_type": "display_data"
    }
   ],
   "source": [
    "observation_x = body_center_x[20]\n",
    "\n",
    "plt.plot(range(len(observation_x)), observation_x)"
   ]
  },
  {
   "cell_type": "markdown",
   "metadata": {},
   "source": [
    "Cette série temporelle contient des valeurs interessantes entre 0 et 700 mais tous le reste n'est pas interessant, il faut donc se débarasser de toute la partie constante. De même pour l'axe des y."
   ]
  },
  {
   "cell_type": "code",
   "execution_count": 82,
   "metadata": {},
   "outputs": [
    {
     "data": {
      "text/plain": [
       "[<matplotlib.lines.Line2D at 0x7f081eeb4fa0>]"
      ]
     },
     "execution_count": 82,
     "metadata": {},
     "output_type": "execute_result"
    },
    {
     "data": {
      "image/png": "[encoded data removed]",
      "text/plain": [
       "<Figure size 432x288 with 1 Axes>"
      ]
     },
     "metadata": {
      "needs_background": "light"
     },
     "output_type": "display_data"
    }
   ],
   "source": [
    "observation_y = body_center_y[90]\n",
    "\n",
    "plt.plot(range(len(observation_y)), observation_y)"
   ]
  },
  {
   "cell_type": "markdown",
   "metadata": {},
   "source": [
    "Il nous faut donc une méthode qui permet de retirer les parties inintéréssantes du data. Une façon de faire c'est de commencer à la fin est retiré des valeur petit à petit jusqu'à croiser une valeur strictement positive."
   ]
  },
  {
   "cell_type": "code",
   "execution_count": 83,
   "metadata": {},
   "outputs": [],
   "source": [
    "def extract(data):\n",
    "    \n",
    "    if(data[-1] > 0):\n",
    "        \n",
    "        return data\n",
    "    \n",
    "    else:\n",
    "        \n",
    "        index_to_delete = [len(data)-1]\n",
    "        \n",
    "        i = len(data)-2\n",
    "        \n",
    "        while((data[i] <= 0 or data[i] == math.nan) and i != 0):\n",
    "            \n",
    "            index_to_delete.append(i)\n",
    "            \n",
    "            i -= 1\n",
    "            \n",
    "        return np.delete(data, index_to_delete)"
   ]
  },
  {
   "cell_type": "markdown",
   "metadata": {},
   "source": [
    "Voici ce qu'on obtient après la supression des données inutiles."
   ]
  },
  {
   "cell_type": "code",
   "execution_count": 95,
   "metadata": {},
   "outputs": [
    {
     "data": {
      "text/plain": [
       "[<matplotlib.lines.Line2D at 0x7f081cfd5370>]"
      ]
     },
     "execution_count": 95,
     "metadata": {},
     "output_type": "execute_result"
    },
    {
     "data": {
      "image/png": "[encoded data removed]",
      "text/plain": [
       "<Figure size 432x288 with 1 Axes>"
      ]
     },
     "metadata": {
      "needs_background": "light"
     },
     "output_type": "display_data"
    }
   ],
   "source": [
    "observation_x = body_center_x[20]\n",
    "\n",
    "extracted_observation = extract(observation_x)\n",
    "\n",
    "plt.plot(range(len(extracted_observation)), extracted_observation)"
   ]
  },
  {
   "cell_type": "markdown",
   "metadata": {},
   "source": [
    "Il faut donc faire subire cette transformation à toutes les observations afin d'avoir que les informations utiles."
   ]
  },
  {
   "cell_type": "code",
   "execution_count": 96,
   "metadata": {},
   "outputs": [],
   "source": [
    "clean_data_X = []\n",
    "clean_data_Y = []\n",
    "for i in range(len(body_center_x)):\n",
    "    \n",
    "    clean_data_X.append(extract(body_center_x[i]))\n",
    "    \n",
    "    clean_data_Y.append(extract(body_center_y[i]))"
   ]
  },
  {
   "cell_type": "code",
   "execution_count": 97,
   "metadata": {},
   "outputs": [
    {
     "data": {
      "text/plain": [
       "[<matplotlib.lines.Line2D at 0x7f081cf35040>]"
      ]
     },
     "execution_count": 97,
     "metadata": {},
     "output_type": "execute_result"
    },
    {
     "data": {
      "image/png": "[encoded data removed]",
      "text/plain": [
       "<Figure size 432x288 with 1 Axes>"
      ]
     },
     "metadata": {
      "needs_background": "light"
     },
     "output_type": "display_data"
    }
   ],
   "source": [
    "o = clean_data_Y[20]\n",
    "plt.plot(range(len(o)), o)"
   ]
  },
  {
   "cell_type": "markdown",
   "metadata": {},
   "source": [
    "### Interpolation"
   ]
  },
  {
   "cell_type": "markdown",
   "metadata": {},
   "source": [
    "Une fois les données sont générées, il faut commencer à penser comment on peut remplire les vides dans nos séries temporelles? Cette une question qui est très important car une mauvaise manipulation peut produire de très mauvaise performances."
   ]
  },
  {
   "cell_type": "markdown",
   "metadata": {},
   "source": [
    "Pour commencer on va supprimer les séries dans le nombre de nan dépasse les 25% du data set. Pour cela nous proposons la méthode suivante."
   ]
  },
  {
   "cell_type": "code",
   "execution_count": 147,
   "metadata": {},
   "outputs": [],
   "source": [
    "def is_intresting(time_serie):\n",
    "    \n",
    "    number_of_nan = 0\n",
    "    \n",
    "    for i in range(len(time_serie)):\n",
    "        \n",
    "        \n",
    "        if(np.isnan(time_serie[i])):\n",
    "            \n",
    "            number_of_nan += 1\n",
    "            \n",
    "    if(number_of_nan/len(time_serie) >= 0.25):\n",
    "        \n",
    "        return 0\n",
    "    \n",
    "    else:\n",
    "        \n",
    "        return 1"
   ]
  },
  {
   "cell_type": "markdown",
   "metadata": {},
   "source": [
    "On crée un tableau qui va nous indiquer les données interessants"
   ]
  },
  {
   "cell_type": "code",
   "execution_count": 148,
   "metadata": {},
   "outputs": [],
   "source": [
    "intresting_x_indicator = [is_intresting(body_center_x[i]) for i in range(len(body_center_x))]\n",
    "intresting_y_indicator = [is_intresting(body_center_y[i]) for i in range(len(body_center_y))]"
   ]
  },
  {
   "cell_type": "markdown",
   "metadata": {},
   "source": [
    "On peut commencer maintenant à chercher des méthodes pour interpoler nos séries temporelles."
   ]
  },
  {
   "cell_type": "code",
   "execution_count": 149,
   "metadata": {},
   "outputs": [],
   "source": [
    "def fill_nans_scipy1(padata, pkind='linear'): \n",
    "\n",
    "    aindexes = np.arange(padata.shape[0])\n",
    "    agood_indexes, = np.where(np.isfinite(padata)) \n",
    "    f = interp1d(agood_indexes , \n",
    "                 padata[agood_indexes] , \n",
    "                 bounds_error=False , \n",
    "                 copy=False , fill_value=\"extrapolate\" , kind=pkind) \n",
    "    \n",
    "    return f(aindexes)"
   ]
  },
  {
   "cell_type": "markdown",
   "metadata": {},
   "source": [
    "On peut observer l'effet de l'interpolation dans la figure ci-dessous:"
   ]
  },
  {
   "cell_type": "code",
   "execution_count": 151,
   "metadata": {},
   "outputs": [
    {
     "data": {
      "text/plain": [
       "[<matplotlib.lines.Line2D at 0x7f0816b52070>]"
      ]
     },
     "execution_count": 151,
     "metadata": {},
     "output_type": "execute_result"
    },
    {
     "data": {
      "image/png": "[encoded data removed]",
      "text/plain": [
       "<Figure size 1080x360 with 2 Axes>"
      ]
     },
     "metadata": {
      "needs_background": "light"
     },
     "output_type": "display_data"
    }
   ],
   "source": [
    "filled_serie = fill_nans_scipy1(clean_data_X[0])\n",
    "\n",
    "fig, ax = plt.subplots(1, 2, figsize=(15,5))\n",
    "\n",
    "ax[0].plot(range(len(clean_data_X[0])), clean_data_X[0])\n",
    "ax[1].plot(range(len(filled_serie)), filled_serie, c = \"orange\")"
   ]
  },
  {
   "cell_type": "markdown",
   "metadata": {},
   "source": [
    "On remarque que l'interpolation linéaire fait un très bon travail quand les données ne sont pas très manquant, ce qu'on va faire ensuite consiste à prendre les séries interessantes et de les interpoler pour passer à l'étape d'extraction."
   ]
  },
  {
   "cell_type": "code",
   "execution_count": 157,
   "metadata": {},
   "outputs": [],
   "source": [
    "X_Series = []\n",
    "Y_Series = []\n",
    "\n",
    "for i in range(len(intresting_x_indicator)):\n",
    "    \n",
    "    if(intresting_x_indicator[i] == 1 and intresting_y_indicator[i] == 1):\n",
    "            \n",
    "        X_Series.append(fill_nans_scipy1(clean_data_X[i]))\n",
    "        Y_Series.append(fill_nans_scipy1(clean_data_Y[i]))"
   ]
  },
  {
   "cell_type": "markdown",
   "metadata": {},
   "source": [
    "## 2.Extraction des features en utilisant des produits de convolution"
   ]
  },
  {
   "cell_type": "markdown",
   "metadata": {},
   "source": [
    "Le but dans cette partie est d'utiliser plusieurs fonctions qui serviront comme filtre afin de différencier les séries temporelles. On va devoir utiliser plusieurs fonctions qui ont des comportement différents selon l'instant. Pour une série \"s\", nous cherchons à produire un vecteur (conv(f1,s), conv(f2,s), ..., conv(fn, s)), où: \n",
    "f1, f2,..., fn sont les fonctions de références et conv est la convolution de ces fonctions avec nos séries."
   ]
  },
  {
   "cell_type": "markdown",
   "metadata": {},
   "source": [
    "Nous proposons les fonctions suivantes:\n",
    "\n",
    "<br>f1 = epsilon .sin(t.pi/ frequency)<br>\n",
    "<br>f2 = alpha.log(t+1)<br>\n",
    "<br>f3 = sigmoïd(t)<br>\n",
    "<br>f4 = cte<br>\n",
    "<br>f5 = 1/(t+1).sin(phi.t)<br>\n",
    "<br>f6 = (t+1).sin(phi.t)<br>\n",
    "<br>f7 = Arctan(t)<br>"
   ]
  },
  {
   "cell_type": "markdown",
   "metadata": {},
   "source": [
    "Pour calculer la convolution de deux fonctions, il faut commencer par calculer les valeurs que notre fonction de référence peut prendre sur un interval."
   ]
  },
  {
   "cell_type": "code",
   "execution_count": 289,
   "metadata": {},
   "outputs": [],
   "source": [
    "def f1(time_serie, epsilon = 0.1, f = 4):\n",
    "    \n",
    "    result = []\n",
    "    \n",
    "    for i in range(len(time_serie)):\n",
    "        \n",
    "        result.append(epsilon*math.sin(i*math.pi/f))\n",
    "        \n",
    "    return np.sum(np.convolve(result, time_serie))/len(time_serie)"
   ]
  },
  {
   "cell_type": "markdown",
   "metadata": {},
   "source": [
    "Par exemple pour la première time serie on a la valeur"
   ]
  },
  {
   "cell_type": "code",
   "execution_count": 290,
   "metadata": {},
   "outputs": [
    {
     "data": {
      "text/plain": [
       "14.639326886944527"
      ]
     },
     "execution_count": 290,
     "metadata": {},
     "output_type": "execute_result"
    }
   ],
   "source": [
    "f1(X_Series[0])"
   ]
  },
  {
   "cell_type": "code",
   "execution_count": 288,
   "metadata": {},
   "outputs": [],
   "source": [
    "def f2(time_serie, alpha = 0.05):\n",
    "    \n",
    "    result = []\n",
    "    \n",
    "    for i in range(len(time_serie)):\n",
    "        \n",
    "        result.append(alpha*math.log(i+1)/(i+1)**2)\n",
    "        \n",
    "    return np.sum(np.convolve(result, time_serie))/len(time_serie)"
   ]
  },
  {
   "cell_type": "code",
   "execution_count": 291,
   "metadata": {},
   "outputs": [
    {
     "data": {
      "text/plain": [
       "2.810543620096023"
      ]
     },
     "execution_count": 291,
     "metadata": {},
     "output_type": "execute_result"
    }
   ],
   "source": [
    "f2(X_Series[0])"
   ]
  },
  {
   "cell_type": "code",
   "execution_count": 287,
   "metadata": {},
   "outputs": [],
   "source": [
    "def f3(time_serie, alpha = 5*10**(-5),l = 1):\n",
    "    \n",
    "    result = []\n",
    "    \n",
    "    for i in range(len(time_serie)):\n",
    "        \n",
    "        result.append(alpha/(1+math.exp(l*(-i))))\n",
    "        \n",
    "    return np.sum(np.convolve(result, time_serie))/len(time_serie)"
   ]
  },
  {
   "cell_type": "code",
   "execution_count": 292,
   "metadata": {},
   "outputs": [
    {
     "data": {
      "text/plain": [
       "2.1709518239049683"
      ]
     },
     "execution_count": 292,
     "metadata": {},
     "output_type": "execute_result"
    }
   ],
   "source": [
    "f3(X_Series[0])"
   ]
  },
  {
   "cell_type": "code",
   "execution_count": 286,
   "metadata": {},
   "outputs": [],
   "source": [
    "def f4(time_serie, cte = 1):\n",
    "    \n",
    "    result = []\n",
    "    \n",
    "    for i in range(len(time_serie)):\n",
    "        \n",
    "        result.append(cte)\n",
    "        \n",
    "    return cte*10**(-5)*np.sum(np.convolve(result, time_serie))/len(time_serie)"
   ]
  },
  {
   "cell_type": "code",
   "execution_count": 293,
   "metadata": {},
   "outputs": [
    {
     "data": {
      "text/plain": [
       "0.4347750150000001"
      ]
     },
     "execution_count": 293,
     "metadata": {},
     "output_type": "execute_result"
    }
   ],
   "source": [
    "f4(X_Series[0])"
   ]
  },
  {
   "cell_type": "code",
   "execution_count": 294,
   "metadata": {},
   "outputs": [],
   "source": [
    "def f5(time_serie, alpha = 100, phi = 1):\n",
    "    \n",
    "    result = []\n",
    "    \n",
    "    for i in range(len(time_serie)):\n",
    "        \n",
    "        result.append((alpha**2)*math.sin(i*math.pi*phi)/math.log(i+2))\n",
    "        \n",
    "    return 10**(7)*np.sum(np.convolve(result, time_serie))/len(time_serie)"
   ]
  },
  {
   "cell_type": "code",
   "execution_count": 256,
   "metadata": {},
   "outputs": [
    {
     "data": {
      "text/plain": [
       "-0.9669384473076325"
      ]
     },
     "execution_count": 256,
     "metadata": {},
     "output_type": "execute_result"
    }
   ],
   "source": [
    "f5_feature(X_Series[0])"
   ]
  },
  {
   "cell_type": "code",
   "execution_count": 285,
   "metadata": {},
   "outputs": [],
   "source": [
    "def f6(time_serie,alpha = 100, phi = 1):\n",
    "    \n",
    "    result = []\n",
    "    \n",
    "    for i in range(len(time_serie)):\n",
    "        \n",
    "        result.append(alpha*math.sin(i*math.pi*phi)*i)\n",
    "        \n",
    "    return 10**(5)*np.sum(np.convolve(result, time_serie))/len(time_serie)"
   ]
  },
  {
   "cell_type": "code",
   "execution_count": 295,
   "metadata": {},
   "outputs": [
    {
     "data": {
      "text/plain": [
       "-0.3718514360548914"
      ]
     },
     "execution_count": 295,
     "metadata": {},
     "output_type": "execute_result"
    }
   ],
   "source": [
    "f6(X_Series[0])"
   ]
  },
  {
   "cell_type": "code",
   "execution_count": 284,
   "metadata": {},
   "outputs": [],
   "source": [
    "def f7(time_serie):\n",
    "    \n",
    "    result = []\n",
    "    \n",
    "    for i in range(len(time_serie)):\n",
    "        \n",
    "        result.append(math.atan(i)/math.pi)\n",
    "        \n",
    "    return 10**(-5)*np.sum(np.convolve(result, time_serie))/len(time_serie)"
   ]
  },
  {
   "cell_type": "code",
   "execution_count": 296,
   "metadata": {
    "scrolled": true
   },
   "outputs": [
    {
     "data": {
      "text/plain": [
       "0.21575712859193263"
      ]
     },
     "execution_count": 296,
     "metadata": {},
     "output_type": "execute_result"
    }
   ],
   "source": [
    "f7(X_Series[0])"
   ]
  },
  {
   "cell_type": "markdown",
   "metadata": {},
   "source": [
    "On va générer maitenant les traits de chaque série temporelle."
   ]
  },
  {
   "cell_type": "code",
   "execution_count": 304,
   "metadata": {},
   "outputs": [],
   "source": [
    "X = [[f1(x), f2(x), f3(x), f4(x), f5(x), f6(x), f7(x)] for x in X_Series]"
   ]
  },
  {
   "cell_type": "markdown",
   "metadata": {},
   "source": [
    "## Clustering des données"
   ]
  },
  {
   "cell_type": "markdown",
   "metadata": {},
   "source": [
    "Dans cette partie nous allons utiliser les traits générées pour voir les clusters que nous pouvons avoir dans les données que nous manipulons."
   ]
  },
  {
   "cell_type": "code",
   "execution_count": 306,
   "metadata": {},
   "outputs": [],
   "source": [
    "from sklearn.cluster import KMeans"
   ]
  },
  {
   "cell_type": "code",
   "execution_count": 307,
   "metadata": {},
   "outputs": [
    {
     "data": {
      "text/html": [
       "<style>#sk-container-id-2 {color: black;background-color: white;}#sk-container-id-2 pre{padding: 0;}#sk-container-id-2 div.sk-toggleable {background-color: white;}#sk-container-id-2 label.sk-toggleable__label {cursor: pointer;display: block;width: 100%;margin-bottom: 0;padding: 0.3em;box-sizing: border-box;text-align: center;}#sk-container-id-2 label.sk-toggleable__label-arrow:before {content: \"▸\";float: left;margin-right: 0.25em;color: #696969;}#sk-container-id-2 label.sk-toggleable__label-arrow:hover:before {color: black;}#sk-container-id-2 div.sk-estimator:hover label.sk-toggleable__label-arrow:before {color: black;}#sk-container-id-2 div.sk-toggleable__content {max-height: 0;max-width: 0;overflow: hidden;text-align: left;background-color: #f0f8ff;}#sk-container-id-2 div.sk-toggleable__content pre {margin: 0.2em;color: black;border-radius: 0.25em;background-color: #f0f8ff;}#sk-container-id-2 input.sk-toggleable__control:checked~div.sk-toggleable__content {max-height: 200px;max-width: 100%;overflow: auto;}#sk-container-id-2 input.sk-toggleable__control:checked~label.sk-toggleable__label-arrow:before {content: \"▾\";}#sk-container-id-2 div.sk-estimator input.sk-toggleable__control:checked~label.sk-toggleable__label {background-color: #d4ebff;}#sk-container-id-2 div.sk-label input.sk-toggleable__control:checked~label.sk-toggleable__label {background-color: #d4ebff;}#sk-container-id-2 input.sk-hidden--visually {border: 0;clip: rect(1px 1px 1px 1px);clip: rect(1px, 1px, 1px, 1px);height: 1px;margin: -1px;overflow: hidden;padding: 0;position: absolute;width: 1px;}#sk-container-id-2 div.sk-estimator {font-family: monospace;background-color: #f0f8ff;border: 1px dotted black;border-radius: 0.25em;box-sizing: border-box;margin-bottom: 0.5em;}#sk-container-id-2 div.sk-estimator:hover {background-color: #d4ebff;}#sk-container-id-2 div.sk-parallel-item::after {content: \"\";width: 100%;border-bottom: 1px solid gray;flex-grow: 1;}#sk-container-id-2 div.sk-label:hover label.sk-toggleable__label {background-color: #d4ebff;}#sk-container-id-2 div.sk-serial::before {content: \"\";position: absolute;border-left: 1px solid gray;box-sizing: border-box;top: 0;bottom: 0;left: 50%;z-index: 0;}#sk-container-id-2 div.sk-serial {display: flex;flex-direction: column;align-items: center;background-color: white;padding-right: 0.2em;padding-left: 0.2em;position: relative;}#sk-container-id-2 div.sk-item {position: relative;z-index: 1;}#sk-container-id-2 div.sk-parallel {display: flex;align-items: stretch;justify-content: center;background-color: white;position: relative;}#sk-container-id-2 div.sk-item::before, #sk-container-id-2 div.sk-parallel-item::before {content: \"\";position: absolute;border-left: 1px solid gray;box-sizing: border-box;top: 0;bottom: 0;left: 50%;z-index: -1;}#sk-container-id-2 div.sk-parallel-item {display: flex;flex-direction: column;z-index: 1;position: relative;background-color: white;}#sk-container-id-2 div.sk-parallel-item:first-child::after {align-self: flex-end;width: 50%;}#sk-container-id-2 div.sk-parallel-item:last-child::after {align-self: flex-start;width: 50%;}#sk-container-id-2 div.sk-parallel-item:only-child::after {width: 0;}#sk-container-id-2 div.sk-dashed-wrapped {border: 1px dashed gray;margin: 0 0.4em 0.5em 0.4em;box-sizing: border-box;padding-bottom: 0.4em;background-color: white;}#sk-container-id-2 div.sk-label label {font-family: monospace;font-weight: bold;display: inline-block;line-height: 1.2em;}#sk-container-id-2 div.sk-label-container {text-align: center;}#sk-container-id-2 div.sk-container {/* jupyter's `normalize.less` sets `[hidden] { display: none; }` but bootstrap.min.css set `[hidden] { display: none !important; }` so we also need the `!important` here to be able to override the default hidden behavior on the sphinx rendered scikit-learn.org. See: https://github.com/scikit-learn/scikit-learn/issues/21755 */display: inline-block !important;position: relative;}#sk-container-id-2 div.sk-text-repr-fallback {display: none;}</style><div id=\"sk-container-id-2\" class=\"sk-top-container\"><div class=\"sk-text-repr-fallback\"><pre>KMeans(n_clusters=2)</pre><b>In a Jupyter environment, please rerun this cell to show the HTML representation or trust the notebook. <br />On GitHub, the HTML representation is unable to render, please try loading this page with nbviewer.org.</b></div><div class=\"sk-container\" hidden><div class=\"sk-item\"><div class=\"sk-estimator sk-toggleable\"><input class=\"sk-toggleable__control sk-hidden--visually\" id=\"sk-estimator-id-2\" type=\"checkbox\" checked><label for=\"sk-estimator-id-2\" class=\"sk-toggleable__label sk-toggleable__label-arrow\">KMeans</label><div class=\"sk-toggleable__content\"><pre>KMeans(n_clusters=2)</pre></div></div></div></div></div>"
      ],
      "text/plain": [
       "KMeans(n_clusters=2)"
      ]
     },
     "execution_count": 307,
     "metadata": {},
     "output_type": "execute_result"
    }
   ],
   "source": [
    "model = KMeans(n_clusters=2)\n",
    "model.fit(X)"
   ]
  },
  {
   "cell_type": "code",
   "execution_count": 308,
   "metadata": {},
   "outputs": [
    {
     "name": "stdout",
     "output_type": "stream",
     "text": [
      "center 1: [36.41997205  8.4924175  19.76835586  3.95542634 -4.47839188 -3.5125591\n",
      "  1.97221835]\n",
      "center 2: [ 7.0892351   6.92745028 17.83177789  3.56778681 -3.81715216 -3.12574896\n",
      "  1.77936471]\n"
     ]
    }
   ],
   "source": [
    "print(\"center 1:\", model.cluster_centers_[0])\n",
    "print(\"center 2:\", model.cluster_centers_[1])"
   ]
  },
  {
   "cell_type": "code",
   "execution_count": 314,
   "metadata": {},
   "outputs": [
    {
     "name": "stdout",
     "output_type": "stream",
     "text": [
      "(122, 7)\n"
     ]
    }
   ],
   "source": [
    "X = np.array(X)\n",
    "print(X.shape)"
   ]
  },
  {
   "cell_type": "code",
   "execution_count": 373,
   "metadata": {},
   "outputs": [
    {
     "data": {
      "text/plain": [
       "<matplotlib.collections.PathCollection at 0x7f080e1c7df0>"
      ]
     },
     "execution_count": 373,
     "metadata": {},
     "output_type": "execute_result"
    },
    {
     "data": {
      "image/png": "[encoded data removed]",
      "text/plain": [
       "<Figure size 432x288 with 1 Axes>"
      ]
     },
     "metadata": {
      "needs_background": "light"
     },
     "output_type": "display_data"
    }
   ],
   "source": [
    "plt.scatter(X[:, 0], X[:, 1])\n",
    "plt.scatter(model.cluster_centers_[0][0], model.cluster_centers_[0][1], s=200, c='g', marker='s')\n",
    "plt.scatter(model.cluster_centers_[1][0], model.cluster_centers_[1][1], s=200, c='r', marker='s')"
   ]
  },
  {
   "cell_type": "code",
   "execution_count": 324,
   "metadata": {},
   "outputs": [
    {
     "data": {
      "text/plain": [
       "<matplotlib.collections.PathCollection at 0x7f0816884fd0>"
      ]
     },
     "execution_count": 324,
     "metadata": {},
     "output_type": "execute_result"
    },
    {
     "data": {
      "image/png": "[encoded data removed]",
      "text/plain": [
       "<Figure size 432x288 with 1 Axes>"
      ]
     },
     "metadata": {
      "needs_background": "light"
     },
     "output_type": "display_data"
    }
   ],
   "source": [
    "plt.scatter(X[:, 0], X[:, 2])\n",
    "plt.scatter(model.cluster_centers_[0][0], model.cluster_centers_[0][1], s=200, c='g', marker='s')\n",
    "plt.scatter(model.cluster_centers_[1][0], model.cluster_centers_[1][1], s=200, c='r', marker='s')"
   ]
  },
  {
   "cell_type": "markdown",
   "metadata": {},
   "source": [
    "# Protocole sur les pattes arrières"
   ]
  },
  {
   "cell_type": "code",
   "execution_count": 332,
   "metadata": {},
   "outputs": [],
   "source": [
    "files = [f for f in listdir('../data')]\n",
    "\n",
    "left_limb_x = []\n",
    "left_limb_y = []\n",
    "left_limb_liklyhood = []\n",
    "\n",
    "mouses = [\"mus1\", \"mus2\",\"mus3\",\"mus4\"]\n",
    "\n",
    "for file in files:\n",
    "    \n",
    "    df = build_DataFrame(\"../data/\"+file)[1]\n",
    "    \n",
    "    for mouse in mouses:\n",
    "        \n",
    "        left_limb_x.append(np.array(df[mouse][\"lefthindlimb\"][\"x\"]))\n",
    "        left_limb_y.append(np.array(df[mouse][\"lefthindlimb\"][\"y\"]))\n",
    "        left_limb_liklyhood.append(np.array(df[mouse][\"lefthindlimb\"][\"likelyhood\"]))"
   ]
  },
  {
   "cell_type": "code",
   "execution_count": 333,
   "metadata": {},
   "outputs": [
    {
     "name": "stdout",
     "output_type": "stream",
     "text": [
      "388\n"
     ]
    }
   ],
   "source": [
    "print(len(left_limb_x))"
   ]
  },
  {
   "cell_type": "code",
   "execution_count": 334,
   "metadata": {},
   "outputs": [],
   "source": [
    "def keep_likely_data1(data_index):\n",
    "    \n",
    "    for i in range(len(left_limb_x[data_index])):\n",
    "        \n",
    "        if(left_limb_liklyhood[data_index][i] < 0.5):\n",
    "            \n",
    "            left_limb_x[data_index][i] = math.nan\n",
    "            left_limb_y[data_index][i] = math.nan"
   ]
  },
  {
   "cell_type": "code",
   "execution_count": 335,
   "metadata": {},
   "outputs": [],
   "source": [
    "for i in range(len(left_limb_x)):\n",
    "    \n",
    "    keep_likely_data1(i)"
   ]
  },
  {
   "cell_type": "code",
   "execution_count": 339,
   "metadata": {},
   "outputs": [],
   "source": [
    "clean_data_X1 = []\n",
    "clean_data_Y1 = []\n",
    "\n",
    "for i in range(len(left_limb_x)):\n",
    "    \n",
    "    clean_data_X1.append(extract(left_limb_x[i]))\n",
    "    clean_data_Y1.append(extract(left_limb_y[i]))"
   ]
  },
  {
   "cell_type": "code",
   "execution_count": 342,
   "metadata": {},
   "outputs": [],
   "source": [
    "intresting_x_indicator = [is_intresting(clean_data_X1[i]) for i in range(len(clean_data_X1))]\n",
    "intresting_y_indicator = [is_intresting(clean_data_Y1[i]) for i in range(len(clean_data_Y1))]"
   ]
  },
  {
   "cell_type": "code",
   "execution_count": 348,
   "metadata": {},
   "outputs": [],
   "source": [
    "X1_Series = []\n",
    "Y1_Series = []\n",
    "\n",
    "for i in range(len(intresting_x_indicator)):\n",
    "    \n",
    "    if(intresting_x_indicator[i] == 1 or intresting_y_indicator[i] == 1):\n",
    "            \n",
    "        X1_Series.append(fill_nans_scipy1(clean_data_X1[i]))\n",
    "        Y1_Series.append(fill_nans_scipy1(clean_data_Y1[i]))"
   ]
  },
  {
   "cell_type": "code",
   "execution_count": 350,
   "metadata": {},
   "outputs": [],
   "source": [
    "X = [[f1(x), f2(x), f3(x), f4(x), f5(x), f6(x), f7(x)] for x in X1_Series]"
   ]
  },
  {
   "cell_type": "code",
   "execution_count": 364,
   "metadata": {},
   "outputs": [
    {
     "data": {
      "text/plain": [
       "38"
      ]
     },
     "execution_count": 364,
     "metadata": {},
     "output_type": "execute_result"
    }
   ],
   "source": [
    "len(X)"
   ]
  },
  {
   "cell_type": "code",
   "execution_count": 351,
   "metadata": {},
   "outputs": [
    {
     "data": {
      "text/html": [
       "<style>#sk-container-id-3 {color: black;background-color: white;}#sk-container-id-3 pre{padding: 0;}#sk-container-id-3 div.sk-toggleable {background-color: white;}#sk-container-id-3 label.sk-toggleable__label {cursor: pointer;display: block;width: 100%;margin-bottom: 0;padding: 0.3em;box-sizing: border-box;text-align: center;}#sk-container-id-3 label.sk-toggleable__label-arrow:before {content: \"▸\";float: left;margin-right: 0.25em;color: #696969;}#sk-container-id-3 label.sk-toggleable__label-arrow:hover:before {color: black;}#sk-container-id-3 div.sk-estimator:hover label.sk-toggleable__label-arrow:before {color: black;}#sk-container-id-3 div.sk-toggleable__content {max-height: 0;max-width: 0;overflow: hidden;text-align: left;background-color: #f0f8ff;}#sk-container-id-3 div.sk-toggleable__content pre {margin: 0.2em;color: black;border-radius: 0.25em;background-color: #f0f8ff;}#sk-container-id-3 input.sk-toggleable__control:checked~div.sk-toggleable__content {max-height: 200px;max-width: 100%;overflow: auto;}#sk-container-id-3 input.sk-toggleable__control:checked~label.sk-toggleable__label-arrow:before {content: \"▾\";}#sk-container-id-3 div.sk-estimator input.sk-toggleable__control:checked~label.sk-toggleable__label {background-color: #d4ebff;}#sk-container-id-3 div.sk-label input.sk-toggleable__control:checked~label.sk-toggleable__label {background-color: #d4ebff;}#sk-container-id-3 input.sk-hidden--visually {border: 0;clip: rect(1px 1px 1px 1px);clip: rect(1px, 1px, 1px, 1px);height: 1px;margin: -1px;overflow: hidden;padding: 0;position: absolute;width: 1px;}#sk-container-id-3 div.sk-estimator {font-family: monospace;background-color: #f0f8ff;border: 1px dotted black;border-radius: 0.25em;box-sizing: border-box;margin-bottom: 0.5em;}#sk-container-id-3 div.sk-estimator:hover {background-color: #d4ebff;}#sk-container-id-3 div.sk-parallel-item::after {content: \"\";width: 100%;border-bottom: 1px solid gray;flex-grow: 1;}#sk-container-id-3 div.sk-label:hover label.sk-toggleable__label {background-color: #d4ebff;}#sk-container-id-3 div.sk-serial::before {content: \"\";position: absolute;border-left: 1px solid gray;box-sizing: border-box;top: 0;bottom: 0;left: 50%;z-index: 0;}#sk-container-id-3 div.sk-serial {display: flex;flex-direction: column;align-items: center;background-color: white;padding-right: 0.2em;padding-left: 0.2em;position: relative;}#sk-container-id-3 div.sk-item {position: relative;z-index: 1;}#sk-container-id-3 div.sk-parallel {display: flex;align-items: stretch;justify-content: center;background-color: white;position: relative;}#sk-container-id-3 div.sk-item::before, #sk-container-id-3 div.sk-parallel-item::before {content: \"\";position: absolute;border-left: 1px solid gray;box-sizing: border-box;top: 0;bottom: 0;left: 50%;z-index: -1;}#sk-container-id-3 div.sk-parallel-item {display: flex;flex-direction: column;z-index: 1;position: relative;background-color: white;}#sk-container-id-3 div.sk-parallel-item:first-child::after {align-self: flex-end;width: 50%;}#sk-container-id-3 div.sk-parallel-item:last-child::after {align-self: flex-start;width: 50%;}#sk-container-id-3 div.sk-parallel-item:only-child::after {width: 0;}#sk-container-id-3 div.sk-dashed-wrapped {border: 1px dashed gray;margin: 0 0.4em 0.5em 0.4em;box-sizing: border-box;padding-bottom: 0.4em;background-color: white;}#sk-container-id-3 div.sk-label label {font-family: monospace;font-weight: bold;display: inline-block;line-height: 1.2em;}#sk-container-id-3 div.sk-label-container {text-align: center;}#sk-container-id-3 div.sk-container {/* jupyter's `normalize.less` sets `[hidden] { display: none; }` but bootstrap.min.css set `[hidden] { display: none !important; }` so we also need the `!important` here to be able to override the default hidden behavior on the sphinx rendered scikit-learn.org. See: https://github.com/scikit-learn/scikit-learn/issues/21755 */display: inline-block !important;position: relative;}#sk-container-id-3 div.sk-text-repr-fallback {display: none;}</style><div id=\"sk-container-id-3\" class=\"sk-top-container\"><div class=\"sk-text-repr-fallback\"><pre>KMeans(n_clusters=2)</pre><b>In a Jupyter environment, please rerun this cell to show the HTML representation or trust the notebook. <br />On GitHub, the HTML representation is unable to render, please try loading this page with nbviewer.org.</b></div><div class=\"sk-container\" hidden><div class=\"sk-item\"><div class=\"sk-estimator sk-toggleable\"><input class=\"sk-toggleable__control sk-hidden--visually\" id=\"sk-estimator-id-3\" type=\"checkbox\" checked><label for=\"sk-estimator-id-3\" class=\"sk-toggleable__label sk-toggleable__label-arrow\">KMeans</label><div class=\"sk-toggleable__content\"><pre>KMeans(n_clusters=2)</pre></div></div></div></div></div>"
      ],
      "text/plain": [
       "KMeans(n_clusters=2)"
      ]
     },
     "execution_count": 351,
     "metadata": {},
     "output_type": "execute_result"
    }
   ],
   "source": [
    "model = KMeans(n_clusters=2)\n",
    "model.fit(X)"
   ]
  },
  {
   "cell_type": "code",
   "execution_count": 359,
   "metadata": {},
   "outputs": [
    {
     "data": {
      "text/plain": [
       "array([[ 2.86634305,  5.04979236, 11.76250907,  2.35354545, -2.65943693,\n",
       "        -2.03390445,  1.17350221],\n",
       "       [23.24828952,  5.19116445, 11.10477691,  2.2220286 , -2.65061163,\n",
       "        -2.13314662,  1.10768184]])"
      ]
     },
     "execution_count": 359,
     "metadata": {},
     "output_type": "execute_result"
    }
   ],
   "source": [
    "model.cluster_centers_"
   ]
  },
  {
   "cell_type": "code",
   "execution_count": 362,
   "metadata": {},
   "outputs": [
    {
     "data": {
      "text/plain": [
       "<matplotlib.collections.PathCollection at 0x7f080e7c69a0>"
      ]
     },
     "execution_count": 362,
     "metadata": {},
     "output_type": "execute_result"
    },
    {
     "data": {
      "image/png": "[encoded data removed]",
      "text/plain": [
       "<Figure size 432x288 with 1 Axes>"
      ]
     },
     "metadata": {
      "needs_background": "light"
     },
     "output_type": "display_data"
    }
   ],
   "source": [
    "X = np.array(X)\n",
    "plt.scatter(X[:, 0], X[:, 1])\n",
    "plt.scatter(model.cluster_centers_[0][0], model.cluster_centers_[0][1], s=200, c='g', marker='s')\n",
    "plt.scatter(model.cluster_centers_[1][0], model.cluster_centers_[1][1], s=200, c='r', marker='s')"
   ]
  },
  {
   "cell_type": "code",
   "execution_count": 363,
   "metadata": {},
   "outputs": [
    {
     "data": {
      "text/plain": [
       "<matplotlib.collections.PathCollection at 0x7f080e536880>"
      ]
     },
     "execution_count": 363,
     "metadata": {},
     "output_type": "execute_result"
    },
    {
     "data": {
      "image/png": "[encoded data removed]",
      "text/plain": [
       "<Figure size 432x288 with 1 Axes>"
      ]
     },
     "metadata": {
      "needs_background": "light"
     },
     "output_type": "display_data"
    }
   ],
   "source": [
    "X = np.array(X)\n",
    "plt.scatter(X[:, 0], X[:, 2])\n",
    "plt.scatter(model.cluster_centers_[0][0], model.cluster_centers_[0][2], s=200, c='g', marker='s')\n",
    "plt.scatter(model.cluster_centers_[1][0], model.cluster_centers_[1][2], s=200, c='r', marker='s')"
   ]
  },
  {
   "cell_type": "code",
   "execution_count": 372,
   "metadata": {},
   "outputs": [
    {
     "data": {
      "text/plain": [
       "<matplotlib.collections.PathCollection at 0x7f080e1e3af0>"
      ]
     },
     "execution_count": 372,
     "metadata": {},
     "output_type": "execute_result"
    },
    {
     "data": {
      "image/png": "[encoded data removed]",
      "text/plain": [
       "<Figure size 432x288 with 1 Axes>"
      ]
     },
     "metadata": {
      "needs_background": "light"
     },
     "output_type": "display_data"
    }
   ],
   "source": [
    "X = np.array(X)\n",
    "plt.scatter(X[:, 1], X[:, 6])\n",
    "plt.scatter(model.cluster_centers_[0][1], model.cluster_centers_[0][6], s=200, c='g', marker='s')\n",
    "plt.scatter(model.cluster_centers_[1][1], model.cluster_centers_[1][6], s=200, c='r', marker='s')"
   ]
  }
 ],
 "metadata": {
  "kernelspec": {
   "display_name": "Python 3",
   "language": "python",
   "name": "python3"
  },
  "language_info": {
   "codemirror_mode": {
    "name": "ipython",
    "version": 3
   },
   "file_extension": ".py",
   "mimetype": "text/x-python",
   "name": "python",
   "nbconvert_exporter": "python",
   "pygments_lexer": "ipython3",
   "version": "3.8.3"
  }
 },
 "nbformat": 4,
 "nbformat_minor": 4
}
